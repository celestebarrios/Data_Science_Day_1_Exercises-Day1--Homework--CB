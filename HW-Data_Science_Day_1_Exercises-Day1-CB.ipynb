{
 "cells": [
  {
   "cell_type": "markdown",
   "metadata": {},
   "source": [
    "# Exercises"
   ]
  },
  {
   "cell_type": "markdown",
   "metadata": {},
   "source": [
    "### #1 - Calculate the BMI (body mass index) on the two lists below using NDArrays..."
   ]
  },
  {
   "cell_type": "code",
   "execution_count": 51,
   "metadata": {},
   "outputs": [
    {
     "name": "stdout",
     "output_type": "stream",
     "text": [
      "[16.86620458 17.87755102 18.82562984 19.71450617 20.54794521 21.32943755\n",
      " 22.06222222]\n"
     ]
    }
   ],
   "source": [
    "import numpy as np\n",
    "# formula = weight / (height**2) * 730\n",
    "height = np.array([69, 70, 71, 72, 73, 74, 75])\n",
    "weight = np.array([110, 120, 130, 140, 150, 160, 170])\n",
    "\n",
    "print(weight / (height**2) * 730) "
   ]
  },
  {
   "cell_type": "markdown",
   "metadata": {},
   "source": [
    "### #2 - Create a function that will take in two parameters and will create a random matrix based off of those parameters. Extra: Have additional parameters taken in that allow the user to choose the shape and data type of the matrix."
   ]
  },
  {
   "cell_type": "code",
   "execution_count": 49,
   "metadata": {},
   "outputs": [
    {
     "data": {
      "text/plain": [
       "array([[-5.76364463e+08, -8.72446926e+08, -9.43902031e+08,\n",
       "        -8.51162395e+08, -8.24626802e+08, -3.68233178e+08,\n",
       "        -8.57349907e+07],\n",
       "       [-5.88091161e+08, -6.92630127e+08, -8.32704830e+08,\n",
       "        -3.50756152e+08, -2.70977624e+08, -6.68532711e+08,\n",
       "        -6.71412422e+08],\n",
       "       [-1.92166333e+08, -2.07762067e+08, -5.30579505e+08,\n",
       "        -5.28926050e+08, -6.33240170e+08, -3.68249739e+08,\n",
       "        -5.65347636e+08]])"
      ]
     },
     "execution_count": 49,
     "metadata": {},
     "output_type": "execute_result"
    }
   ],
   "source": [
    "# Example makeMatrix(param1,param2) -- Extra params can be added here as well\n",
    "\n",
    "def makeMatrix(low,high,shape,data_type = float):\n",
    "     return np.random.uniform(low,high,shape)\n",
    "makeMatrix(-1e9,1e7,(3,7))\n"
   ]
  },
  {
   "cell_type": "markdown",
   "metadata": {},
   "source": [
    "### #3 - Extra: Open and load the data in the two text files that have the Boston Red Sox hitting data for the past seasons. Compare the difference in the two years by putting the data into an NDArray and running a differencial operation on it. The column to look for will be SLG.\n",
    "\n",
    "Your output should display which year (either 2017 or 2018) was a better year based on SLG"
   ]
  },
  {
   "cell_type": "code",
   "execution_count": 38,
   "metadata": {},
   "outputs": [
    {
     "name": "stdout",
     "output_type": "stream",
     "text": [
      "\n",
      "Mookie Betts, 24\n",
      "\n",
      "2018 is the better yr//J.D. Martinez, 43\n"
     ]
    }
   ],
   "source": [
    "FIELDS = ['Rk', 'Pos', 'Name', 'Age', 'G', 'PA', 'AB', 'R', 'H', '2B', '3B', 'HR', 'RBI', 'SB', 'CS', \n",
    "          'BB', 'SO', 'BA', 'OBP', 'SLG', 'OPS', 'OPS+', 'TB', 'GDP', 'HBP', 'SH', 'SF', 'IBB']\n",
    "\n",
    "DATATYPES = [('rk', 'i'), ('pos', '|S25'), ('name', '|S25'), ('age', 'i'), ('g', 'i'), ('pa', 'i'), ('ab', 'i'),\n",
    "                ('r', 'i'), ('h', 'i'), ('2b', 'i'), ('3b', 'i'), ('hr', 'i'), ('rbi', 'i'), ('sb', 'i'), ('cs', 'i'),\n",
    "                ('bb', 'i'), ('so', 'i'), ('ba', 'f'), ('obp', 'f'), ('slg', 'f'), ('ops', 'f'), ('opsp', 'i'),\n",
    "                ('tb', 'i'), ('gdp', 'i'), ('hbp', 'i'), ('sh', 'i'), ('sf', 'i'), ('ibb', 'i')]\n",
    "\n",
    "#Use this function to actually open the data inside of a NDArray\n",
    "\n",
    "def load_data(filename, d=','):\n",
    "    data = []\n",
    "        \n",
    "    data = np.genfromtxt(filename, delimiter= d, skip_header = 1, \\\n",
    "                         usecols= np.arange(0,24), invalid_raise = False,\\\n",
    "                        names = FIELDS, dtype = DATATYPES)\n",
    "    return data\n",
    "\n",
    "bs2017 = load_data('redsox_2017_hitting.txt')\n",
    "bs2018 = load_data('redsox_2018_hitting.txt')\n",
    "\n",
    "def betterYear():\n",
    "    hr17 = bs2017['HR']\n",
    "    hr18 = bs2018['HR']\n",
    "    player_name17 = bs2017['Name']\n",
    "    player_name18 = bs2018['Name']\n",
    "\n",
    "    player_hr17 = list(zip(player_name17, hr17))\n",
    "    player_hr18 = list(zip(player_name18, hr18))\n",
    "\n",
    "    player_hr_sort17 = sorted(player_hr17, key = lambda x : x[1])\n",
    "    player_hr_sort18 = sorted(player_hr18, key = lambda x : x[1])\n",
    "    \n",
    "    player_hr_max17 = player_hr_sort17[-1:]\n",
    "    player_hr_max18 = player_hr_sort18[-1:]\n",
    "    \n",
    "    \n",
    "    for player, hr in player_hr_max17:\n",
    "        print(f'\\n{player.decode(\"utf-8\")}, {hr}')\n",
    "        \n",
    "    for player, hr in player_hr_max18:\n",
    "        print(f'\\n2018 is the better yr//{player.decode(\"utf-8\")}, {hr}')\n",
    "    \n",
    "    \n",
    "betterYear()"
   ]
  }
 ],
 "metadata": {
  "kernelspec": {
   "display_name": "Python 3",
   "language": "python",
   "name": "python3"
  },
  "language_info": {
   "codemirror_mode": {
    "name": "ipython",
    "version": 3
   },
   "file_extension": ".py",
   "mimetype": "text/x-python",
   "name": "python",
   "nbconvert_exporter": "python",
   "pygments_lexer": "ipython3",
   "version": "3.7.6"
  }
 },
 "nbformat": 4,
 "nbformat_minor": 2
}
